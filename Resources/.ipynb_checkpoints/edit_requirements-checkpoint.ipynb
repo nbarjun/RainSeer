{
 "cells": [
  {
   "cell_type": "code",
   "execution_count": 2,
   "id": "86355bd0",
   "metadata": {},
   "outputs": [],
   "source": [
    "import pandas as pd\n",
    "import numpy as np"
   ]
  },
  {
   "cell_type": "code",
   "execution_count": 11,
   "id": "f76592e6",
   "metadata": {},
   "outputs": [],
   "source": [
    "data=pd.read_fwf('all_packages.txt', sep=' ',\\\n",
    "                skiprows=3,header=None) "
   ]
  },
  {
   "cell_type": "code",
   "execution_count": 4,
   "id": "9e4d4946",
   "metadata": {},
   "outputs": [],
   "source": [
    "packages=data[[0]].values"
   ]
  },
  {
   "cell_type": "code",
   "execution_count": 12,
   "id": "74b4b375",
   "metadata": {},
   "outputs": [],
   "source": [
    "packages = data[0].values\n",
    "versions = data[1].values\n",
    "\n",
    "with open('requirements.txt', 'w') as f:\n",
    "    for p,v in zip(packages,versions):\n",
    "        f.write('{}=={}'.format(p,v))\n",
    "        f.write('\\n')"
   ]
  }
 ],
 "metadata": {
  "kernelspec": {
   "display_name": "Python 3 (ipykernel)",
   "language": "python",
   "name": "python3"
  },
  "language_info": {
   "codemirror_mode": {
    "name": "ipython",
    "version": 3
   },
   "file_extension": ".py",
   "mimetype": "text/x-python",
   "name": "python",
   "nbconvert_exporter": "python",
   "pygments_lexer": "ipython3",
   "version": "3.12.8"
  }
 },
 "nbformat": 4,
 "nbformat_minor": 5
}
